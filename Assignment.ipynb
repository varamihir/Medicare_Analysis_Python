{
 "cells": [
  {
   "cell_type": "markdown",
   "metadata": {},
   "source": [
    "### Overview"
   ]
  },
  {
   "cell_type": "markdown",
   "metadata": {},
   "source": [
    "### Dataset\n",
    "\n",
    "The dataset is owned by the CMS and is part of the inpatient utilization and payment public use file. The dataset provides information on utilization, payment (total payment and Medicare payment), and hospital-specific charges for over 3,000 U.S. hospitals that receive Medicare Inpatient Prospective Payment System (IPPS) payments. The dataset includes about 201k rows and 12 columns. The data is organized by hospital and Medicare Severity Diagnosis Related Group (MS-DRG).\n",
    "\n",
    "“Average Charges” refers to what the provider bills to Medicare.\n",
    "\n",
    "“Average Total Payments” refers to what Medicare actually pays to the provider as well as co-payment and deductible amounts that the beneficiary is responsible for.\n",
    "\n",
    "### Average hospital charges and payments by state\n",
    "Average hospital charges and payments differ across the U.S., with many procedures costing more in some states than others. We have ranked states by average Medicare payments, average total payments as well as by average covered charges. States with the highest hospital charges are California, New Jersey, Pennsylvania, Colorado, Nevada, Florida and Alaska while states with the highest average Medicare payments are Maryland, California, Alaska, New York, Washington, Massachusetts and Hawaii."
   ]
  },
  {
   "cell_type": "code",
   "execution_count": 1,
   "metadata": {},
   "outputs": [],
   "source": [
    "import pandas as pd\n",
    "import numpy as np\n",
    "import matplotlib.pyplot as plt\n",
    "%matplotlib inline\n",
    "import warnings\n",
    "warnings.filterwarnings(\"ignore\")\n",
    "import seaborn as sns\n"
   ]
  },
  {
   "cell_type": "code",
   "execution_count": 2,
   "metadata": {},
   "outputs": [
    {
     "data": {
      "text/html": [
       "<div>\n",
       "<style scoped>\n",
       "    .dataframe tbody tr th:only-of-type {\n",
       "        vertical-align: middle;\n",
       "    }\n",
       "\n",
       "    .dataframe tbody tr th {\n",
       "        vertical-align: top;\n",
       "    }\n",
       "\n",
       "    .dataframe thead th {\n",
       "        text-align: right;\n",
       "    }\n",
       "</style>\n",
       "<table border=\"1\" class=\"dataframe\">\n",
       "  <thead>\n",
       "    <tr style=\"text-align: right;\">\n",
       "      <th></th>\n",
       "      <th>DRG Definition</th>\n",
       "      <th>Provider Id</th>\n",
       "      <th>Provider Name</th>\n",
       "      <th>Provider Street Address</th>\n",
       "      <th>Provider City</th>\n",
       "      <th>Provider State</th>\n",
       "      <th>Provider Zip Code</th>\n",
       "      <th>Hospital Referral Region (HRR) Description</th>\n",
       "      <th>Total Discharges</th>\n",
       "      <th>Average Covered Charges</th>\n",
       "      <th>Average Total Payments</th>\n",
       "      <th>Average Medicare Payments</th>\n",
       "    </tr>\n",
       "  </thead>\n",
       "  <tbody>\n",
       "    <tr>\n",
       "      <td>0</td>\n",
       "      <td>039 - EXTRACRANIAL PROCEDURES W/O CC/MCC</td>\n",
       "      <td>10001</td>\n",
       "      <td>SOUTHEAST ALABAMA MEDICAL CENTER</td>\n",
       "      <td>1108 ROSS CLARK CIRCLE</td>\n",
       "      <td>DOTHAN</td>\n",
       "      <td>AL</td>\n",
       "      <td>36301</td>\n",
       "      <td>AL - Dothan</td>\n",
       "      <td>91</td>\n",
       "      <td>32963.07692</td>\n",
       "      <td>5777.241758</td>\n",
       "      <td>4763.736264</td>\n",
       "    </tr>\n",
       "    <tr>\n",
       "      <td>1</td>\n",
       "      <td>039 - EXTRACRANIAL PROCEDURES W/O CC/MCC</td>\n",
       "      <td>10005</td>\n",
       "      <td>MARSHALL MEDICAL CENTER SOUTH</td>\n",
       "      <td>2505 U S HIGHWAY 431 NORTH</td>\n",
       "      <td>BOAZ</td>\n",
       "      <td>AL</td>\n",
       "      <td>35957</td>\n",
       "      <td>AL - Birmingham</td>\n",
       "      <td>14</td>\n",
       "      <td>15131.85714</td>\n",
       "      <td>5787.571429</td>\n",
       "      <td>4976.714286</td>\n",
       "    </tr>\n",
       "    <tr>\n",
       "      <td>2</td>\n",
       "      <td>039 - EXTRACRANIAL PROCEDURES W/O CC/MCC</td>\n",
       "      <td>10006</td>\n",
       "      <td>ELIZA COFFEE MEMORIAL HOSPITAL</td>\n",
       "      <td>205 MARENGO STREET</td>\n",
       "      <td>FLORENCE</td>\n",
       "      <td>AL</td>\n",
       "      <td>35631</td>\n",
       "      <td>AL - Birmingham</td>\n",
       "      <td>24</td>\n",
       "      <td>37560.37500</td>\n",
       "      <td>5434.958333</td>\n",
       "      <td>4453.791667</td>\n",
       "    </tr>\n",
       "  </tbody>\n",
       "</table>\n",
       "</div>"
      ],
      "text/plain": [
       "                             DRG Definition  Provider Id  \\\n",
       "0  039 - EXTRACRANIAL PROCEDURES W/O CC/MCC        10001   \n",
       "1  039 - EXTRACRANIAL PROCEDURES W/O CC/MCC        10005   \n",
       "2  039 - EXTRACRANIAL PROCEDURES W/O CC/MCC        10006   \n",
       "\n",
       "                      Provider Name     Provider Street Address Provider City  \\\n",
       "0  SOUTHEAST ALABAMA MEDICAL CENTER      1108 ROSS CLARK CIRCLE        DOTHAN   \n",
       "1     MARSHALL MEDICAL CENTER SOUTH  2505 U S HIGHWAY 431 NORTH          BOAZ   \n",
       "2    ELIZA COFFEE MEMORIAL HOSPITAL          205 MARENGO STREET      FLORENCE   \n",
       "\n",
       "  Provider State  Provider Zip Code  \\\n",
       "0             AL              36301   \n",
       "1             AL              35957   \n",
       "2             AL              35631   \n",
       "\n",
       "  Hospital Referral Region (HRR) Description  Total Discharges  \\\n",
       "0                                AL - Dothan                91   \n",
       "1                            AL - Birmingham                14   \n",
       "2                            AL - Birmingham                24   \n",
       "\n",
       "   Average Covered Charges  Average Total Payments  Average Medicare Payments  \n",
       "0              32963.07692             5777.241758                4763.736264  \n",
       "1              15131.85714             5787.571429                4976.714286  \n",
       "2              37560.37500             5434.958333                4453.791667  "
      ]
     },
     "execution_count": 2,
     "metadata": {},
     "output_type": "execute_result"
    }
   ],
   "source": [
    "data = pd.read_csv(\"Medicare_Provider_Charge_Inpatient_DRG100_FY2011.csv\")\n",
    "data.head(3)"
   ]
  },
  {
   "cell_type": "code",
   "execution_count": 3,
   "metadata": {},
   "outputs": [
    {
     "data": {
      "text/plain": [
       "(163065, 12)"
      ]
     },
     "execution_count": 3,
     "metadata": {},
     "output_type": "execute_result"
    }
   ],
   "source": [
    "data.shape"
   ]
  },
  {
   "cell_type": "code",
   "execution_count": 4,
   "metadata": {},
   "outputs": [
    {
     "name": "stdout",
     "output_type": "stream",
     "text": [
      "<class 'pandas.core.frame.DataFrame'>\n",
      "RangeIndex: 163065 entries, 0 to 163064\n",
      "Data columns (total 12 columns):\n",
      "DRG Definition                                163065 non-null object\n",
      "Provider Id                                   163065 non-null int64\n",
      "Provider Name                                 163065 non-null object\n",
      "Provider Street Address                       163065 non-null object\n",
      "Provider City                                 163065 non-null object\n",
      "Provider State                                163065 non-null object\n",
      "Provider Zip Code                             163065 non-null int64\n",
      "Hospital Referral Region (HRR) Description    163065 non-null object\n",
      "Total Discharges                              163065 non-null int64\n",
      "Average Covered Charges                       163065 non-null float64\n",
      "Average Total Payments                        163065 non-null float64\n",
      "Average Medicare Payments                     163065 non-null float64\n",
      "dtypes: float64(3), int64(3), object(6)\n",
      "memory usage: 14.9+ MB\n"
     ]
    }
   ],
   "source": [
    "data.info()"
   ]
  },
  {
   "cell_type": "code",
   "execution_count": 5,
   "metadata": {},
   "outputs": [
    {
     "data": {
      "text/html": [
       "<div>\n",
       "<style scoped>\n",
       "    .dataframe tbody tr th:only-of-type {\n",
       "        vertical-align: middle;\n",
       "    }\n",
       "\n",
       "    .dataframe tbody tr th {\n",
       "        vertical-align: top;\n",
       "    }\n",
       "\n",
       "    .dataframe thead th {\n",
       "        text-align: right;\n",
       "    }\n",
       "</style>\n",
       "<table border=\"1\" class=\"dataframe\">\n",
       "  <thead>\n",
       "    <tr style=\"text-align: right;\">\n",
       "      <th></th>\n",
       "      <th>Provider Id</th>\n",
       "      <th>Provider Zip Code</th>\n",
       "      <th>Total Discharges</th>\n",
       "      <th>Average Covered Charges</th>\n",
       "      <th>Average Total Payments</th>\n",
       "      <th>Average Medicare Payments</th>\n",
       "    </tr>\n",
       "  </thead>\n",
       "  <tbody>\n",
       "    <tr>\n",
       "      <td>count</td>\n",
       "      <td>163065.000000</td>\n",
       "      <td>163065.000000</td>\n",
       "      <td>163065.000000</td>\n",
       "      <td>163065.000000</td>\n",
       "      <td>163065.000000</td>\n",
       "      <td>163065.000000</td>\n",
       "    </tr>\n",
       "    <tr>\n",
       "      <td>mean</td>\n",
       "      <td>255569.865428</td>\n",
       "      <td>47938.121908</td>\n",
       "      <td>42.776304</td>\n",
       "      <td>36133.958434</td>\n",
       "      <td>9707.477867</td>\n",
       "      <td>8494.495174</td>\n",
       "    </tr>\n",
       "    <tr>\n",
       "      <td>std</td>\n",
       "      <td>151563.671767</td>\n",
       "      <td>27854.323080</td>\n",
       "      <td>51.104042</td>\n",
       "      <td>35065.365905</td>\n",
       "      <td>7664.642652</td>\n",
       "      <td>7309.467247</td>\n",
       "    </tr>\n",
       "    <tr>\n",
       "      <td>min</td>\n",
       "      <td>10001.000000</td>\n",
       "      <td>1040.000000</td>\n",
       "      <td>11.000000</td>\n",
       "      <td>2459.400000</td>\n",
       "      <td>2673.000000</td>\n",
       "      <td>1148.909091</td>\n",
       "    </tr>\n",
       "    <tr>\n",
       "      <td>25%</td>\n",
       "      <td>110092.000000</td>\n",
       "      <td>27261.000000</td>\n",
       "      <td>17.000000</td>\n",
       "      <td>15947.166670</td>\n",
       "      <td>5234.500000</td>\n",
       "      <td>4192.354839</td>\n",
       "    </tr>\n",
       "    <tr>\n",
       "      <td>50%</td>\n",
       "      <td>250007.000000</td>\n",
       "      <td>44309.000000</td>\n",
       "      <td>27.000000</td>\n",
       "      <td>25245.823530</td>\n",
       "      <td>7214.100000</td>\n",
       "      <td>6158.465116</td>\n",
       "    </tr>\n",
       "    <tr>\n",
       "      <td>75%</td>\n",
       "      <td>380075.000000</td>\n",
       "      <td>72901.000000</td>\n",
       "      <td>49.000000</td>\n",
       "      <td>43232.592590</td>\n",
       "      <td>11286.400000</td>\n",
       "      <td>10056.882350</td>\n",
       "    </tr>\n",
       "    <tr>\n",
       "      <td>max</td>\n",
       "      <td>670077.000000</td>\n",
       "      <td>99835.000000</td>\n",
       "      <td>3383.000000</td>\n",
       "      <td>929118.909100</td>\n",
       "      <td>156158.181800</td>\n",
       "      <td>154620.818200</td>\n",
       "    </tr>\n",
       "  </tbody>\n",
       "</table>\n",
       "</div>"
      ],
      "text/plain": [
       "         Provider Id  Provider Zip Code  Total Discharges  \\\n",
       "count  163065.000000      163065.000000     163065.000000   \n",
       "mean   255569.865428       47938.121908         42.776304   \n",
       "std    151563.671767       27854.323080         51.104042   \n",
       "min     10001.000000        1040.000000         11.000000   \n",
       "25%    110092.000000       27261.000000         17.000000   \n",
       "50%    250007.000000       44309.000000         27.000000   \n",
       "75%    380075.000000       72901.000000         49.000000   \n",
       "max    670077.000000       99835.000000       3383.000000   \n",
       "\n",
       "       Average Covered Charges  Average Total Payments  \\\n",
       "count            163065.000000           163065.000000   \n",
       "mean              36133.958434             9707.477867   \n",
       "std               35065.365905             7664.642652   \n",
       "min                2459.400000             2673.000000   \n",
       "25%               15947.166670             5234.500000   \n",
       "50%               25245.823530             7214.100000   \n",
       "75%               43232.592590            11286.400000   \n",
       "max              929118.909100           156158.181800   \n",
       "\n",
       "       Average Medicare Payments  \n",
       "count              163065.000000  \n",
       "mean                 8494.495174  \n",
       "std                  7309.467247  \n",
       "min                  1148.909091  \n",
       "25%                  4192.354839  \n",
       "50%                  6158.465116  \n",
       "75%                 10056.882350  \n",
       "max                154620.818200  "
      ]
     },
     "execution_count": 5,
     "metadata": {},
     "output_type": "execute_result"
    }
   ],
   "source": [
    "data.describe()"
   ]
  },
  {
   "cell_type": "code",
   "execution_count": 6,
   "metadata": {},
   "outputs": [
    {
     "data": {
      "text/plain": [
       "DRG Definition                                0\n",
       "Provider Id                                   0\n",
       "Provider Name                                 0\n",
       "Provider Street Address                       0\n",
       "Provider City                                 0\n",
       "Provider State                                0\n",
       "Provider Zip Code                             0\n",
       "Hospital Referral Region (HRR) Description    0\n",
       "Total Discharges                              0\n",
       "Average Covered Charges                       0\n",
       "Average Total Payments                        0\n",
       "Average Medicare Payments                     0\n",
       "dtype: int64"
      ]
     },
     "execution_count": 6,
     "metadata": {},
     "output_type": "execute_result"
    }
   ],
   "source": [
    "data.isnull().sum()"
   ]
  },
  {
   "cell_type": "code",
   "execution_count": 7,
   "metadata": {},
   "outputs": [
    {
     "data": {
      "text/plain": [
       "CA    13064\n",
       "TX    11864\n",
       "FL    11155\n",
       "NY     9178\n",
       "IL     7909\n",
       "PA     7804\n",
       "OH     7012\n",
       "MI     5419\n",
       "NC     5041\n",
       "GA     4968\n",
       "NJ     4826\n",
       "VA     4332\n",
       "IN     4260\n",
       "TN     4168\n",
       "MO     4059\n",
       "Name: Provider State, dtype: int64"
      ]
     },
     "execution_count": 7,
     "metadata": {},
     "output_type": "execute_result"
    }
   ],
   "source": [
    "data[\"Provider State\"].value_counts().head(15)"
   ]
  },
  {
   "cell_type": "markdown",
   "metadata": {},
   "source": [
    "### Most Common Medicare inpatient discharge diagnoses\n",
    "Our analysis has shown that among the most common Medicare hospital discharge diagnoses in 2011 were Simple Pneumonia & Pleurisy,Kidney & Urinary Tract Infections W/O MCC, Heart Failure & Shock W CC, ESOPHAGITIS, GASTROENT & MISC DIGEST DISORDERS W/O MCC,MISC DISORDERS OF NUTRITION,METABOLISM,FLUIDS/ELECTROLYTES W/O MCC."
   ]
  },
  {
   "cell_type": "code",
   "execution_count": 32,
   "metadata": {},
   "outputs": [
    {
     "data": {
      "text/plain": [
       "194 - SIMPLE PNEUMONIA & PLEURISY W CC                                      3023\n",
       "690 - KIDNEY & URINARY TRACT INFECTIONS W/O MCC                             2989\n",
       "292 - HEART FAILURE & SHOCK W CC                                            2953\n",
       "392 - ESOPHAGITIS, GASTROENT & MISC DIGEST DISORDERS W/O MCC                2950\n",
       "641 - MISC DISORDERS OF NUTRITION,METABOLISM,FLUIDS/ELECTROLYTES W/O MCC    2899\n",
       "871 - SEPTICEMIA OR SEVERE SEPSIS W/O MV 96+ HOURS W MCC                    2812\n",
       "603 - CELLULITIS W/O MCC                                                    2807\n",
       "470 - MAJOR JOINT REPLACEMENT OR REATTACHMENT OF LOWER EXTREMITY W/O MCC    2750\n",
       "191 - CHRONIC OBSTRUCTIVE PULMONARY DISEASE W CC                            2720\n",
       "190 - CHRONIC OBSTRUCTIVE PULMONARY DISEASE W MCC                           2713\n",
       "Name: DRG Definition, dtype: int64"
      ]
     },
     "execution_count": 32,
     "metadata": {},
     "output_type": "execute_result"
    }
   ],
   "source": [
    "data[\"DRG Definition\"].value_counts().head(10)"
   ]
  },
  {
   "cell_type": "code",
   "execution_count": 9,
   "metadata": {},
   "outputs": [],
   "source": [
    "data_by_code_state = data[[\"DRG Definition\",\"Provider Name\",\"Provider State\",\"Total Discharges\",\"Average Covered Charges\",\"Average Total Payments\",\"Average Medicare Payments\"]]"
   ]
  },
  {
   "cell_type": "code",
   "execution_count": 10,
   "metadata": {},
   "outputs": [],
   "source": [
    "# Option #1\n",
    "data_by_state =data_by_code_state.groupby([\"DRG Definition\",\"Provider State\"], as_index = False)[\"Average Covered Charges\",\"Average Total Payments\",\"Average Medicare Payments\"].mean()"
   ]
  },
  {
   "cell_type": "code",
   "execution_count": 11,
   "metadata": {},
   "outputs": [],
   "source": [
    "# Option 2\n",
    "#data_by_code_state =data_by_state.groupby([\"DRG Definition\",\"Provider State\"], as_index = False).agg({\"Average Covered Charges\": \"mean\",\"Average Total Payments\":\"mean\",\"Average Medicare Payments\":\"mean\"})"
   ]
  },
  {
   "cell_type": "code",
   "execution_count": 12,
   "metadata": {},
   "outputs": [
    {
     "data": {
      "text/html": [
       "<div>\n",
       "<style scoped>\n",
       "    .dataframe tbody tr th:only-of-type {\n",
       "        vertical-align: middle;\n",
       "    }\n",
       "\n",
       "    .dataframe tbody tr th {\n",
       "        vertical-align: top;\n",
       "    }\n",
       "\n",
       "    .dataframe thead th {\n",
       "        text-align: right;\n",
       "    }\n",
       "</style>\n",
       "<table border=\"1\" class=\"dataframe\">\n",
       "  <thead>\n",
       "    <tr style=\"text-align: right;\">\n",
       "      <th></th>\n",
       "      <th>DRG Definition</th>\n",
       "      <th>Provider State</th>\n",
       "      <th>Average Covered Charges</th>\n",
       "      <th>Average Total Payments</th>\n",
       "      <th>Average Medicare Payments</th>\n",
       "    </tr>\n",
       "  </thead>\n",
       "  <tbody>\n",
       "    <tr>\n",
       "      <td>0</td>\n",
       "      <td>039 - EXTRACRANIAL PROCEDURES W/O CC/MCC</td>\n",
       "      <td>AK</td>\n",
       "      <td>34805.130430</td>\n",
       "      <td>8401.956522</td>\n",
       "      <td>6413.782609</td>\n",
       "    </tr>\n",
       "    <tr>\n",
       "      <td>1</td>\n",
       "      <td>039 - EXTRACRANIAL PROCEDURES W/O CC/MCC</td>\n",
       "      <td>AL</td>\n",
       "      <td>32044.441514</td>\n",
       "      <td>5743.615891</td>\n",
       "      <td>4599.596881</td>\n",
       "    </tr>\n",
       "    <tr>\n",
       "      <td>2</td>\n",
       "      <td>039 - EXTRACRANIAL PROCEDURES W/O CC/MCC</td>\n",
       "      <td>AR</td>\n",
       "      <td>27463.268018</td>\n",
       "      <td>6118.832486</td>\n",
       "      <td>4938.716691</td>\n",
       "    </tr>\n",
       "    <tr>\n",
       "      <td>3</td>\n",
       "      <td>039 - EXTRACRANIAL PROCEDURES W/O CC/MCC</td>\n",
       "      <td>AZ</td>\n",
       "      <td>33443.363359</td>\n",
       "      <td>7271.558983</td>\n",
       "      <td>5912.837259</td>\n",
       "    </tr>\n",
       "    <tr>\n",
       "      <td>4</td>\n",
       "      <td>039 - EXTRACRANIAL PROCEDURES W/O CC/MCC</td>\n",
       "      <td>CA</td>\n",
       "      <td>56094.934561</td>\n",
       "      <td>8387.936667</td>\n",
       "      <td>6878.958616</td>\n",
       "    </tr>\n",
       "  </tbody>\n",
       "</table>\n",
       "</div>"
      ],
      "text/plain": [
       "                             DRG Definition Provider State  \\\n",
       "0  039 - EXTRACRANIAL PROCEDURES W/O CC/MCC             AK   \n",
       "1  039 - EXTRACRANIAL PROCEDURES W/O CC/MCC             AL   \n",
       "2  039 - EXTRACRANIAL PROCEDURES W/O CC/MCC             AR   \n",
       "3  039 - EXTRACRANIAL PROCEDURES W/O CC/MCC             AZ   \n",
       "4  039 - EXTRACRANIAL PROCEDURES W/O CC/MCC             CA   \n",
       "\n",
       "   Average Covered Charges  Average Total Payments  Average Medicare Payments  \n",
       "0             34805.130430             8401.956522                6413.782609  \n",
       "1             32044.441514             5743.615891                4599.596881  \n",
       "2             27463.268018             6118.832486                4938.716691  \n",
       "3             33443.363359             7271.558983                5912.837259  \n",
       "4             56094.934561             8387.936667                6878.958616  "
      ]
     },
     "execution_count": 12,
     "metadata": {},
     "output_type": "execute_result"
    }
   ],
   "source": [
    "data_by_state.head()"
   ]
  },
  {
   "cell_type": "code",
   "execution_count": 13,
   "metadata": {},
   "outputs": [
    {
     "data": {
      "text/plain": [
       "['039 - EXTRACRANIAL PROCEDURES W/O CC/MCC',\n",
       " '057 - DEGENERATIVE NERVOUS SYSTEM DISORDERS W/O MCC',\n",
       " '064 - INTRACRANIAL HEMORRHAGE OR CEREBRAL INFARCTION W MCC',\n",
       " '065 - INTRACRANIAL HEMORRHAGE OR CEREBRAL INFARCTION W CC',\n",
       " '066 - INTRACRANIAL HEMORRHAGE OR CEREBRAL INFARCTION W/O CC/MCC',\n",
       " '069 - TRANSIENT ISCHEMIA',\n",
       " '074 - CRANIAL & PERIPHERAL NERVE DISORDERS W/O MCC',\n",
       " '101 - SEIZURES W/O MCC',\n",
       " '149 - DYSEQUILIBRIUM',\n",
       " '176 - PULMONARY EMBOLISM W/O MCC',\n",
       " '177 - RESPIRATORY INFECTIONS & INFLAMMATIONS W MCC',\n",
       " '178 - RESPIRATORY INFECTIONS & INFLAMMATIONS W CC',\n",
       " '189 - PULMONARY EDEMA & RESPIRATORY FAILURE',\n",
       " '190 - CHRONIC OBSTRUCTIVE PULMONARY DISEASE W MCC',\n",
       " '191 - CHRONIC OBSTRUCTIVE PULMONARY DISEASE W CC',\n",
       " '192 - CHRONIC OBSTRUCTIVE PULMONARY DISEASE W/O CC/MCC',\n",
       " '193 - SIMPLE PNEUMONIA & PLEURISY W MCC',\n",
       " '194 - SIMPLE PNEUMONIA & PLEURISY W CC',\n",
       " '195 - SIMPLE PNEUMONIA & PLEURISY W/O CC/MCC',\n",
       " '202 - BRONCHITIS & ASTHMA W CC/MCC',\n",
       " '203 - BRONCHITIS & ASTHMA W/O CC/MCC',\n",
       " '207 - RESPIRATORY SYSTEM DIAGNOSIS W VENTILATOR SUPPORT 96+ HOURS',\n",
       " '208 - RESPIRATORY SYSTEM DIAGNOSIS W VENTILATOR SUPPORT <96 HOURS',\n",
       " '238 - MAJOR CARDIOVASC PROCEDURES W/O MCC',\n",
       " '243 - PERMANENT CARDIAC PACEMAKER IMPLANT W CC',\n",
       " '244 - PERMANENT CARDIAC PACEMAKER IMPLANT W/O CC/MCC',\n",
       " '246 - PERC CARDIOVASC PROC W DRUG-ELUTING STENT W MCC OR 4+ VESSELS/STENTS',\n",
       " '247 - PERC CARDIOVASC PROC W DRUG-ELUTING STENT W/O MCC',\n",
       " '249 - PERC CARDIOVASC PROC W NON-DRUG-ELUTING STENT W/O MCC',\n",
       " '251 - PERC CARDIOVASC PROC W/O CORONARY ARTERY STENT W/O MCC',\n",
       " '252 - OTHER VASCULAR PROCEDURES W MCC',\n",
       " '253 - OTHER VASCULAR PROCEDURES W CC',\n",
       " '254 - OTHER VASCULAR PROCEDURES W/O CC/MCC',\n",
       " '280 - ACUTE MYOCARDIAL INFARCTION, DISCHARGED ALIVE W MCC',\n",
       " '281 - ACUTE MYOCARDIAL INFARCTION, DISCHARGED ALIVE W CC',\n",
       " '282 - ACUTE MYOCARDIAL INFARCTION, DISCHARGED ALIVE W/O CC/MCC',\n",
       " '286 - CIRCULATORY DISORDERS EXCEPT AMI, W CARD CATH W MCC',\n",
       " '287 - CIRCULATORY DISORDERS EXCEPT AMI, W CARD CATH W/O MCC',\n",
       " '291 - HEART FAILURE & SHOCK W MCC',\n",
       " '292 - HEART FAILURE & SHOCK W CC',\n",
       " '293 - HEART FAILURE & SHOCK W/O CC/MCC',\n",
       " '300 - PERIPHERAL VASCULAR DISORDERS W CC',\n",
       " '301 - PERIPHERAL VASCULAR DISORDERS W/O CC/MCC',\n",
       " '303 - ATHEROSCLEROSIS W/O MCC',\n",
       " '305 - HYPERTENSION W/O MCC',\n",
       " '308 - CARDIAC ARRHYTHMIA & CONDUCTION DISORDERS W MCC',\n",
       " '309 - CARDIAC ARRHYTHMIA & CONDUCTION DISORDERS W CC',\n",
       " '310 - CARDIAC ARRHYTHMIA & CONDUCTION DISORDERS W/O CC/MCC',\n",
       " '312 - SYNCOPE & COLLAPSE',\n",
       " '313 - CHEST PAIN',\n",
       " '314 - OTHER CIRCULATORY SYSTEM DIAGNOSES W MCC',\n",
       " '315 - OTHER CIRCULATORY SYSTEM DIAGNOSES W CC',\n",
       " '329 - MAJOR SMALL & LARGE BOWEL PROCEDURES W MCC',\n",
       " '330 - MAJOR SMALL & LARGE BOWEL PROCEDURES W CC',\n",
       " '372 - MAJOR GASTROINTESTINAL DISORDERS & PERITONEAL INFECTIONS W CC',\n",
       " '377 - G.I. HEMORRHAGE W MCC',\n",
       " '378 - G.I. HEMORRHAGE W CC',\n",
       " '379 - G.I. HEMORRHAGE W/O CC/MCC',\n",
       " '389 - G.I. OBSTRUCTION W CC',\n",
       " '390 - G.I. OBSTRUCTION W/O CC/MCC',\n",
       " '391 - ESOPHAGITIS, GASTROENT & MISC DIGEST DISORDERS W MCC',\n",
       " '392 - ESOPHAGITIS, GASTROENT & MISC DIGEST DISORDERS W/O MCC',\n",
       " '394 - OTHER DIGESTIVE SYSTEM DIAGNOSES W CC',\n",
       " '418 - LAPAROSCOPIC CHOLECYSTECTOMY W/O C.D.E. W CC',\n",
       " '419 - LAPAROSCOPIC CHOLECYSTECTOMY W/O C.D.E. W/O CC/MCC',\n",
       " '439 - DISORDERS OF PANCREAS EXCEPT MALIGNANCY W CC',\n",
       " '460 - SPINAL FUSION EXCEPT CERVICAL W/O MCC',\n",
       " '469 - MAJOR JOINT REPLACEMENT OR REATTACHMENT OF LOWER EXTREMITY W MCC',\n",
       " '470 - MAJOR JOINT REPLACEMENT OR REATTACHMENT OF LOWER EXTREMITY W/O MCC',\n",
       " '473 - CERVICAL SPINAL FUSION W/O CC/MCC',\n",
       " '480 - HIP & FEMUR PROCEDURES EXCEPT MAJOR JOINT W MCC',\n",
       " '481 - HIP & FEMUR PROCEDURES EXCEPT MAJOR JOINT W CC',\n",
       " '482 - HIP & FEMUR PROCEDURES EXCEPT MAJOR JOINT W/O CC/MCC',\n",
       " '491 - BACK & NECK PROC EXC SPINAL FUSION W/O CC/MCC',\n",
       " '536 - FRACTURES OF HIP & PELVIS W/O MCC',\n",
       " '552 - MEDICAL BACK PROBLEMS W/O MCC',\n",
       " '563 - FX, SPRN, STRN & DISL EXCEPT FEMUR, HIP, PELVIS & THIGH W/O MCC',\n",
       " '602 - CELLULITIS W MCC',\n",
       " '603 - CELLULITIS W/O MCC',\n",
       " '638 - DIABETES W CC',\n",
       " '640 - MISC DISORDERS OF NUTRITION,METABOLISM,FLUIDS/ELECTROLYTES W MCC',\n",
       " '641 - MISC DISORDERS OF NUTRITION,METABOLISM,FLUIDS/ELECTROLYTES W/O MCC',\n",
       " '682 - RENAL FAILURE W MCC',\n",
       " '683 - RENAL FAILURE W CC',\n",
       " '684 - RENAL FAILURE W/O CC/MCC',\n",
       " '689 - KIDNEY & URINARY TRACT INFECTIONS W MCC',\n",
       " '690 - KIDNEY & URINARY TRACT INFECTIONS W/O MCC',\n",
       " '698 - OTHER KIDNEY & URINARY TRACT DIAGNOSES W MCC',\n",
       " '699 - OTHER KIDNEY & URINARY TRACT DIAGNOSES W CC',\n",
       " '811 - RED BLOOD CELL DISORDERS W MCC',\n",
       " '812 - RED BLOOD CELL DISORDERS W/O MCC',\n",
       " '853 - INFECTIOUS & PARASITIC DISEASES W O.R. PROCEDURE W MCC',\n",
       " '870 - SEPTICEMIA OR SEVERE SEPSIS W MV 96+ HOURS',\n",
       " '871 - SEPTICEMIA OR SEVERE SEPSIS W/O MV 96+ HOURS W MCC',\n",
       " '872 - SEPTICEMIA OR SEVERE SEPSIS W/O MV 96+ HOURS W/O MCC',\n",
       " '885 - PSYCHOSES',\n",
       " '897 - ALCOHOL/DRUG ABUSE OR DEPENDENCE W/O REHABILITATION THERAPY W/O MCC',\n",
       " '917 - POISONING & TOXIC EFFECTS OF DRUGS W MCC',\n",
       " '918 - POISONING & TOXIC EFFECTS OF DRUGS W/O MCC',\n",
       " '948 - SIGNS & SYMPTOMS W/O MCC']"
      ]
     },
     "execution_count": 13,
     "metadata": {},
     "output_type": "execute_result"
    }
   ],
   "source": [
    "procedure_codes= data_by_code_state[\"DRG Definition\"].unique().tolist()\n",
    "procedure_codes"
   ]
  },
  {
   "cell_type": "code",
   "execution_count": 14,
   "metadata": {},
   "outputs": [],
   "source": [
    "data_by_state = data_by_code_state.groupby(\"Provider State\", as_index = False).agg({\"Average Covered Charges\": \"mean\",\"Average Total Payments\":\"mean\",\"Average Medicare Payments\":\"mean\"})"
   ]
  },
  {
   "cell_type": "code",
   "execution_count": 15,
   "metadata": {},
   "outputs": [
    {
     "data": {
      "text/html": [
       "<div>\n",
       "<style scoped>\n",
       "    .dataframe tbody tr th:only-of-type {\n",
       "        vertical-align: middle;\n",
       "    }\n",
       "\n",
       "    .dataframe tbody tr th {\n",
       "        vertical-align: top;\n",
       "    }\n",
       "\n",
       "    .dataframe thead th {\n",
       "        text-align: right;\n",
       "    }\n",
       "</style>\n",
       "<table border=\"1\" class=\"dataframe\">\n",
       "  <thead>\n",
       "    <tr style=\"text-align: right;\">\n",
       "      <th></th>\n",
       "      <th>Provider State</th>\n",
       "      <th>Average Covered Charges</th>\n",
       "      <th>Average Total Payments</th>\n",
       "      <th>Average Medicare Payments</th>\n",
       "    </tr>\n",
       "  </thead>\n",
       "  <tbody>\n",
       "    <tr>\n",
       "      <td>0</td>\n",
       "      <td>AK</td>\n",
       "      <td>40348.747302</td>\n",
       "      <td>14572.395796</td>\n",
       "      <td>12958.973677</td>\n",
       "    </tr>\n",
       "    <tr>\n",
       "      <td>1</td>\n",
       "      <td>AL</td>\n",
       "      <td>31316.466350</td>\n",
       "      <td>7568.236166</td>\n",
       "      <td>6418.011329</td>\n",
       "    </tr>\n",
       "    <tr>\n",
       "      <td>2</td>\n",
       "      <td>AR</td>\n",
       "      <td>26174.530353</td>\n",
       "      <td>8019.252815</td>\n",
       "      <td>6919.725054</td>\n",
       "    </tr>\n",
       "    <tr>\n",
       "      <td>3</td>\n",
       "      <td>AZ</td>\n",
       "      <td>41200.067125</td>\n",
       "      <td>10154.532272</td>\n",
       "      <td>8825.721445</td>\n",
       "    </tr>\n",
       "    <tr>\n",
       "      <td>4</td>\n",
       "      <td>CA</td>\n",
       "      <td>67508.620696</td>\n",
       "      <td>12629.672379</td>\n",
       "      <td>11494.385763</td>\n",
       "    </tr>\n",
       "  </tbody>\n",
       "</table>\n",
       "</div>"
      ],
      "text/plain": [
       "  Provider State  Average Covered Charges  Average Total Payments  \\\n",
       "0             AK             40348.747302            14572.395796   \n",
       "1             AL             31316.466350             7568.236166   \n",
       "2             AR             26174.530353             8019.252815   \n",
       "3             AZ             41200.067125            10154.532272   \n",
       "4             CA             67508.620696            12629.672379   \n",
       "\n",
       "   Average Medicare Payments  \n",
       "0               12958.973677  \n",
       "1                6418.011329  \n",
       "2                6919.725054  \n",
       "3                8825.721445  \n",
       "4               11494.385763  "
      ]
     },
     "execution_count": 15,
     "metadata": {},
     "output_type": "execute_result"
    }
   ],
   "source": [
    "data_by_state.head()"
   ]
  },
  {
   "cell_type": "markdown",
   "metadata": {},
   "source": [
    "### State Ranked by highest average hospital charges"
   ]
  },
  {
   "cell_type": "code",
   "execution_count": 16,
   "metadata": {},
   "outputs": [
    {
     "data": {
      "text/plain": [
       "4    CA\n",
       "Name: Provider State, dtype: object"
      ]
     },
     "execution_count": 16,
     "metadata": {},
     "output_type": "execute_result"
    }
   ],
   "source": [
    "data_by_state[data_by_state[\"Average Covered Charges\"] ==data_by_state[\"Average Covered Charges\"].max()][\"Provider State\"]"
   ]
  },
  {
   "cell_type": "code",
   "execution_count": 17,
   "metadata": {},
   "outputs": [
    {
     "data": {
      "text/html": [
       "<div>\n",
       "<style scoped>\n",
       "    .dataframe tbody tr th:only-of-type {\n",
       "        vertical-align: middle;\n",
       "    }\n",
       "\n",
       "    .dataframe tbody tr th {\n",
       "        vertical-align: top;\n",
       "    }\n",
       "\n",
       "    .dataframe thead th {\n",
       "        text-align: right;\n",
       "    }\n",
       "</style>\n",
       "<table border=\"1\" class=\"dataframe\">\n",
       "  <thead>\n",
       "    <tr style=\"text-align: right;\">\n",
       "      <th></th>\n",
       "      <th>Provider State</th>\n",
       "      <th>Average Covered Charges</th>\n",
       "    </tr>\n",
       "  </thead>\n",
       "  <tbody>\n",
       "    <tr>\n",
       "      <td>4</td>\n",
       "      <td>CA</td>\n",
       "      <td>67508.620696</td>\n",
       "    </tr>\n",
       "    <tr>\n",
       "      <td>31</td>\n",
       "      <td>NJ</td>\n",
       "      <td>66125.690484</td>\n",
       "    </tr>\n",
       "    <tr>\n",
       "      <td>33</td>\n",
       "      <td>NV</td>\n",
       "      <td>61047.119709</td>\n",
       "    </tr>\n",
       "    <tr>\n",
       "      <td>9</td>\n",
       "      <td>FL</td>\n",
       "      <td>46016.237809</td>\n",
       "    </tr>\n",
       "    <tr>\n",
       "      <td>43</td>\n",
       "      <td>TX</td>\n",
       "      <td>41480.197581</td>\n",
       "    </tr>\n",
       "    <tr>\n",
       "      <td>3</td>\n",
       "      <td>AZ</td>\n",
       "      <td>41200.067125</td>\n",
       "    </tr>\n",
       "    <tr>\n",
       "      <td>5</td>\n",
       "      <td>CO</td>\n",
       "      <td>41095.140164</td>\n",
       "    </tr>\n",
       "    <tr>\n",
       "      <td>0</td>\n",
       "      <td>AK</td>\n",
       "      <td>40348.747302</td>\n",
       "    </tr>\n",
       "    <tr>\n",
       "      <td>7</td>\n",
       "      <td>DC</td>\n",
       "      <td>40116.668129</td>\n",
       "    </tr>\n",
       "    <tr>\n",
       "      <td>38</td>\n",
       "      <td>PA</td>\n",
       "      <td>39633.963945</td>\n",
       "    </tr>\n",
       "  </tbody>\n",
       "</table>\n",
       "</div>"
      ],
      "text/plain": [
       "   Provider State  Average Covered Charges\n",
       "4              CA             67508.620696\n",
       "31             NJ             66125.690484\n",
       "33             NV             61047.119709\n",
       "9              FL             46016.237809\n",
       "43             TX             41480.197581\n",
       "3              AZ             41200.067125\n",
       "5              CO             41095.140164\n",
       "0              AK             40348.747302\n",
       "7              DC             40116.668129\n",
       "38             PA             39633.963945"
      ]
     },
     "execution_count": 17,
     "metadata": {},
     "output_type": "execute_result"
    }
   ],
   "source": [
    "data_top10_state_covered = data_by_state.sort_values(\"Average Covered Charges\", ascending = False)\n",
    "data_top10_state_covered[[\"Provider State\",\"Average Covered Charges\"]].head(10)"
   ]
  },
  {
   "cell_type": "code",
   "execution_count": 18,
   "metadata": {},
   "outputs": [],
   "source": [
    "data_top10_state_covered = data_top10_state_covered[[\"Provider State\",\"Average Covered Charges\"]].head(10)"
   ]
  },
  {
   "cell_type": "code",
   "execution_count": 19,
   "metadata": {},
   "outputs": [
    {
     "data": {
      "image/png": "[encoded data removed]",
      "text/plain": [
       "<Figure size 720x720 with 1 Axes>"
      ]
     },
     "metadata": {
      "needs_background": "light"
     },
     "output_type": "display_data"
    }
   ],
   "source": [
    "plt.figure(figsize= (10,10))\n",
    "a= sns.barplot(x = \"Provider State\", y = \"Average Covered Charges\", data = data_top10_state_covered)\n",
    "plt.xticks(rotation = 45)\n",
    "plt.show()"
   ]
  },
  {
   "cell_type": "markdown",
   "metadata": {},
   "source": [
    "### State Ranked by highest average Medicare payments"
   ]
  },
  {
   "cell_type": "code",
   "execution_count": 20,
   "metadata": {},
   "outputs": [
    {
     "data": {
      "text/plain": [
       "0    AK\n",
       "Name: Provider State, dtype: object"
      ]
     },
     "execution_count": 20,
     "metadata": {},
     "output_type": "execute_result"
    }
   ],
   "source": [
    "data_by_state[data_by_state[\"Average Medicare Payments\"]== data_by_state[\"Average Medicare Payments\"].max()][\"Provider State\"]"
   ]
  },
  {
   "cell_type": "code",
   "execution_count": 21,
   "metadata": {},
   "outputs": [
    {
     "data": {
      "text/html": [
       "<div>\n",
       "<style scoped>\n",
       "    .dataframe tbody tr th:only-of-type {\n",
       "        vertical-align: middle;\n",
       "    }\n",
       "\n",
       "    .dataframe tbody tr th {\n",
       "        vertical-align: top;\n",
       "    }\n",
       "\n",
       "    .dataframe thead th {\n",
       "        text-align: right;\n",
       "    }\n",
       "</style>\n",
       "<table border=\"1\" class=\"dataframe\">\n",
       "  <thead>\n",
       "    <tr style=\"text-align: right;\">\n",
       "      <th></th>\n",
       "      <th>Provider State</th>\n",
       "      <th>Average Medicare Payments</th>\n",
       "    </tr>\n",
       "  </thead>\n",
       "  <tbody>\n",
       "    <tr>\n",
       "      <td>0</td>\n",
       "      <td>AK</td>\n",
       "      <td>12958.973677</td>\n",
       "    </tr>\n",
       "    <tr>\n",
       "      <td>7</td>\n",
       "      <td>DC</td>\n",
       "      <td>11811.972137</td>\n",
       "    </tr>\n",
       "    <tr>\n",
       "      <td>4</td>\n",
       "      <td>CA</td>\n",
       "      <td>11494.385763</td>\n",
       "    </tr>\n",
       "    <tr>\n",
       "      <td>20</td>\n",
       "      <td>MD</td>\n",
       "      <td>11480.126155</td>\n",
       "    </tr>\n",
       "    <tr>\n",
       "      <td>11</td>\n",
       "      <td>HI</td>\n",
       "      <td>10967.479069</td>\n",
       "    </tr>\n",
       "    <tr>\n",
       "      <td>34</td>\n",
       "      <td>NY</td>\n",
       "      <td>10620.740627</td>\n",
       "    </tr>\n",
       "    <tr>\n",
       "      <td>46</td>\n",
       "      <td>VT</td>\n",
       "      <td>10546.974395</td>\n",
       "    </tr>\n",
       "    <tr>\n",
       "      <td>6</td>\n",
       "      <td>CT</td>\n",
       "      <td>10104.597206</td>\n",
       "    </tr>\n",
       "    <tr>\n",
       "      <td>31</td>\n",
       "      <td>NJ</td>\n",
       "      <td>9586.944313</td>\n",
       "    </tr>\n",
       "    <tr>\n",
       "      <td>50</td>\n",
       "      <td>WY</td>\n",
       "      <td>9539.396260</td>\n",
       "    </tr>\n",
       "  </tbody>\n",
       "</table>\n",
       "</div>"
      ],
      "text/plain": [
       "   Provider State  Average Medicare Payments\n",
       "0              AK               12958.973677\n",
       "7              DC               11811.972137\n",
       "4              CA               11494.385763\n",
       "20             MD               11480.126155\n",
       "11             HI               10967.479069\n",
       "34             NY               10620.740627\n",
       "46             VT               10546.974395\n",
       "6              CT               10104.597206\n",
       "31             NJ                9586.944313\n",
       "50             WY                9539.396260"
      ]
     },
     "execution_count": 21,
     "metadata": {},
     "output_type": "execute_result"
    }
   ],
   "source": [
    "data_top10_state_medicare = data_by_state.sort_values(\"Average Medicare Payments\", ascending = False)\n",
    "data_top10_state_medicare[[\"Provider State\",\"Average Medicare Payments\"]].head(10)"
   ]
  },
  {
   "cell_type": "code",
   "execution_count": 22,
   "metadata": {},
   "outputs": [],
   "source": [
    "data_top10_state_medicare = data_top10_state_medicare[[\"Provider State\",\"Average Medicare Payments\"]].head(10)"
   ]
  },
  {
   "cell_type": "code",
   "execution_count": 23,
   "metadata": {},
   "outputs": [
    {
     "data": {
      "image/png": "[encoded data removed]",
      "text/plain": [
       "<Figure size 720x720 with 1 Axes>"
      ]
     },
     "metadata": {
      "needs_background": "light"
     },
     "output_type": "display_data"
    }
   ],
   "source": [
    "plt.figure(figsize= (10,10))\n",
    "a= sns.barplot(x = \"Provider State\", y = \"Average Medicare Payments\", data = data_top10_state_medicare)\n",
    "plt.xticks(rotation = 45)\n",
    "plt.show()"
   ]
  },
  {
   "cell_type": "markdown",
   "metadata": {},
   "source": [
    "### Highest Cost Claim by Provider"
   ]
  },
  {
   "cell_type": "code",
   "execution_count": 24,
   "metadata": {},
   "outputs": [
    {
     "data": {
      "text/html": [
       "<div>\n",
       "<style scoped>\n",
       "    .dataframe tbody tr th:only-of-type {\n",
       "        vertical-align: middle;\n",
       "    }\n",
       "\n",
       "    .dataframe tbody tr th {\n",
       "        vertical-align: top;\n",
       "    }\n",
       "\n",
       "    .dataframe thead th {\n",
       "        text-align: right;\n",
       "    }\n",
       "</style>\n",
       "<table border=\"1\" class=\"dataframe\">\n",
       "  <thead>\n",
       "    <tr style=\"text-align: right;\">\n",
       "      <th></th>\n",
       "      <th>Provider Name</th>\n",
       "      <th>Provider State</th>\n",
       "      <th>Average Covered Charges</th>\n",
       "    </tr>\n",
       "  </thead>\n",
       "  <tbody>\n",
       "    <tr>\n",
       "      <td>3122</td>\n",
       "      <td>UVA HEALTH SCIENCES CENTER</td>\n",
       "      <td>VA</td>\n",
       "      <td>211922.000000</td>\n",
       "    </tr>\n",
       "    <tr>\n",
       "      <td>206</td>\n",
       "      <td>BAYONNE HOSPITAL CENTER</td>\n",
       "      <td>NJ</td>\n",
       "      <td>147441.337388</td>\n",
       "    </tr>\n",
       "    <tr>\n",
       "      <td>678</td>\n",
       "      <td>DOCTORS MEDICAL CENTER</td>\n",
       "      <td>CA</td>\n",
       "      <td>144695.837072</td>\n",
       "    </tr>\n",
       "    <tr>\n",
       "      <td>2839</td>\n",
       "      <td>STANFORD HOSPITAL</td>\n",
       "      <td>CA</td>\n",
       "      <td>138818.653932</td>\n",
       "    </tr>\n",
       "    <tr>\n",
       "      <td>1946</td>\n",
       "      <td>NORTHBAY MEDICAL CENTER</td>\n",
       "      <td>CA</td>\n",
       "      <td>138504.549580</td>\n",
       "    </tr>\n",
       "    <tr>\n",
       "      <td>604</td>\n",
       "      <td>CROZER CHESTER MEDICAL CENTER</td>\n",
       "      <td>PA</td>\n",
       "      <td>137130.851966</td>\n",
       "    </tr>\n",
       "    <tr>\n",
       "      <td>3181</td>\n",
       "      <td>WASHINGTON HOSPITAL</td>\n",
       "      <td>CA</td>\n",
       "      <td>131510.126440</td>\n",
       "    </tr>\n",
       "    <tr>\n",
       "      <td>2489</td>\n",
       "      <td>SETON MEDICAL CENTER</td>\n",
       "      <td>CA</td>\n",
       "      <td>130177.366167</td>\n",
       "    </tr>\n",
       "    <tr>\n",
       "      <td>2915</td>\n",
       "      <td>TEMPLE UNIVERSITY HOSPITAL</td>\n",
       "      <td>PA</td>\n",
       "      <td>126824.329151</td>\n",
       "    </tr>\n",
       "    <tr>\n",
       "      <td>2274</td>\n",
       "      <td>REGIONAL MEDICAL CENTER OF SAN JOSE</td>\n",
       "      <td>CA</td>\n",
       "      <td>126288.698255</td>\n",
       "    </tr>\n",
       "  </tbody>\n",
       "</table>\n",
       "</div>"
      ],
      "text/plain": [
       "                            Provider Name Provider State  \\\n",
       "3122           UVA HEALTH SCIENCES CENTER             VA   \n",
       "206               BAYONNE HOSPITAL CENTER             NJ   \n",
       "678                DOCTORS MEDICAL CENTER             CA   \n",
       "2839                    STANFORD HOSPITAL             CA   \n",
       "1946              NORTHBAY MEDICAL CENTER             CA   \n",
       "604         CROZER CHESTER MEDICAL CENTER             PA   \n",
       "3181                  WASHINGTON HOSPITAL             CA   \n",
       "2489                 SETON MEDICAL CENTER             CA   \n",
       "2915           TEMPLE UNIVERSITY HOSPITAL             PA   \n",
       "2274  REGIONAL MEDICAL CENTER OF SAN JOSE             CA   \n",
       "\n",
       "      Average Covered Charges  \n",
       "3122            211922.000000  \n",
       "206             147441.337388  \n",
       "678             144695.837072  \n",
       "2839            138818.653932  \n",
       "1946            138504.549580  \n",
       "604             137130.851966  \n",
       "3181            131510.126440  \n",
       "2489            130177.366167  \n",
       "2915            126824.329151  \n",
       "2274            126288.698255  "
      ]
     },
     "execution_count": 24,
     "metadata": {},
     "output_type": "execute_result"
    }
   ],
   "source": [
    "data_by_highest_claim = data_by_code_state.groupby([\"Provider Name\",\"Provider State\"], as_index = False)[\"Average Covered Charges\"].mean()\n",
    "data_by_highest_claim2 = data_by_highest_claim.sort_values(\"Average Covered Charges\",ascending = False)\n",
    "data_by_highest_claim2 = data_by_highest_claim2.head(10)\n",
    "data_by_highest_claim2"
   ]
  },
  {
   "cell_type": "code",
   "execution_count": 25,
   "metadata": {},
   "outputs": [
    {
     "data": {
      "image/png": "[encoded data removed]",
      "text/plain": [
       "<Figure size 720x720 with 1 Axes>"
      ]
     },
     "metadata": {
      "needs_background": "light"
     },
     "output_type": "display_data"
    }
   ],
   "source": [
    "plt.figure(figsize= (10,10))\n",
    "a= sns.barplot(x = \"Provider Name\", y = \"Average Covered Charges\", data = data_by_highest_claim2)\n",
    "plt.xticks(rotation = 90)\n",
    "plt.show()"
   ]
  },
  {
   "cell_type": "markdown",
   "metadata": {},
   "source": [
    "### Highest Cost Claim by Region"
   ]
  },
  {
   "cell_type": "code",
   "execution_count": 28,
   "metadata": {},
   "outputs": [
    {
     "data": {
      "text/html": [
       "<div>\n",
       "<style scoped>\n",
       "    .dataframe tbody tr th:only-of-type {\n",
       "        vertical-align: middle;\n",
       "    }\n",
       "\n",
       "    .dataframe tbody tr th {\n",
       "        vertical-align: top;\n",
       "    }\n",
       "\n",
       "    .dataframe thead th {\n",
       "        text-align: right;\n",
       "    }\n",
       "</style>\n",
       "<table border=\"1\" class=\"dataframe\">\n",
       "  <thead>\n",
       "    <tr style=\"text-align: right;\">\n",
       "      <th></th>\n",
       "      <th>Provider State</th>\n",
       "      <th>Average Covered Charges</th>\n",
       "    </tr>\n",
       "  </thead>\n",
       "  <tbody>\n",
       "    <tr>\n",
       "      <td>4</td>\n",
       "      <td>CA</td>\n",
       "      <td>67508.620696</td>\n",
       "    </tr>\n",
       "    <tr>\n",
       "      <td>31</td>\n",
       "      <td>NJ</td>\n",
       "      <td>66125.690484</td>\n",
       "    </tr>\n",
       "    <tr>\n",
       "      <td>33</td>\n",
       "      <td>NV</td>\n",
       "      <td>61047.119709</td>\n",
       "    </tr>\n",
       "    <tr>\n",
       "      <td>9</td>\n",
       "      <td>FL</td>\n",
       "      <td>46016.237809</td>\n",
       "    </tr>\n",
       "    <tr>\n",
       "      <td>43</td>\n",
       "      <td>TX</td>\n",
       "      <td>41480.197581</td>\n",
       "    </tr>\n",
       "    <tr>\n",
       "      <td>3</td>\n",
       "      <td>AZ</td>\n",
       "      <td>41200.067125</td>\n",
       "    </tr>\n",
       "    <tr>\n",
       "      <td>5</td>\n",
       "      <td>CO</td>\n",
       "      <td>41095.140164</td>\n",
       "    </tr>\n",
       "    <tr>\n",
       "      <td>0</td>\n",
       "      <td>AK</td>\n",
       "      <td>40348.747302</td>\n",
       "    </tr>\n",
       "    <tr>\n",
       "      <td>7</td>\n",
       "      <td>DC</td>\n",
       "      <td>40116.668129</td>\n",
       "    </tr>\n",
       "    <tr>\n",
       "      <td>38</td>\n",
       "      <td>PA</td>\n",
       "      <td>39633.963945</td>\n",
       "    </tr>\n",
       "  </tbody>\n",
       "</table>\n",
       "</div>"
      ],
      "text/plain": [
       "   Provider State  Average Covered Charges\n",
       "4              CA             67508.620696\n",
       "31             NJ             66125.690484\n",
       "33             NV             61047.119709\n",
       "9              FL             46016.237809\n",
       "43             TX             41480.197581\n",
       "3              AZ             41200.067125\n",
       "5              CO             41095.140164\n",
       "0              AK             40348.747302\n",
       "7              DC             40116.668129\n",
       "38             PA             39633.963945"
      ]
     },
     "execution_count": 28,
     "metadata": {},
     "output_type": "execute_result"
    }
   ],
   "source": [
    "data_by_highest_claim_region = data_by_code_state.groupby(\"Provider State\", as_index = False)[\"Average Covered Charges\"].mean()\n",
    "data_by_highest_claim2_region = data_by_highest_claim_region.sort_values(\"Average Covered Charges\",ascending = False)\n",
    "data_by_highest_claim2_region = data_by_highest_claim2_region.head(10)\n",
    "data_by_highest_claim2_region"
   ]
  },
  {
   "cell_type": "code",
   "execution_count": 30,
   "metadata": {},
   "outputs": [
    {
     "data": {
      "image/png": "[encoded data removed]",
      "text/plain": [
       "<Figure size 576x576 with 1 Axes>"
      ]
     },
     "metadata": {
      "needs_background": "light"
     },
     "output_type": "display_data"
    }
   ],
   "source": [
    "plt.figure(figsize= (8,8))\n",
    "a= sns.barplot(x = \"Provider State\", y = \"Average Covered Charges\", data = data_by_highest_claim2_region)\n",
    "plt.xticks(rotation = 90)\n",
    "plt.show()"
   ]
  },
  {
   "cell_type": "markdown",
   "metadata": {},
   "source": [
    "### Most Expensive Health conditions \n",
    "are 1.SEPTICEMIA OR SEVERE SEPSIS W MV 96+ HOURS, 2.RESPIRATORY SYSTEM DIAGNOSIS W VENTILATOR SUPPORT 96+ HOURS, 3.INFECTIOUS & PARASITIC DISEASES W O.R. PROCEDURE W MCC, 4.INFECTIOUS & PARASITIC DISEASES W O.R. PROCEDURE W MCC, 5.PERC CARDIOVASC PROC W DRUG-ELUTING STENT W MCC OR 4+ VESSELS/STENTS"
   ]
  },
  {
   "cell_type": "code",
   "execution_count": 38,
   "metadata": {},
   "outputs": [
    {
     "data": {
      "text/html": [
       "<div>\n",
       "<style scoped>\n",
       "    .dataframe tbody tr th:only-of-type {\n",
       "        vertical-align: middle;\n",
       "    }\n",
       "\n",
       "    .dataframe tbody tr th {\n",
       "        vertical-align: top;\n",
       "    }\n",
       "\n",
       "    .dataframe thead th {\n",
       "        text-align: right;\n",
       "    }\n",
       "</style>\n",
       "<table border=\"1\" class=\"dataframe\">\n",
       "  <thead>\n",
       "    <tr style=\"text-align: right;\">\n",
       "      <th></th>\n",
       "      <th>DRG Definition</th>\n",
       "      <th>Average Covered Charges</th>\n",
       "    </tr>\n",
       "  </thead>\n",
       "  <tbody>\n",
       "    <tr>\n",
       "      <td>92</td>\n",
       "      <td>870 - SEPTICEMIA OR SEVERE SEPSIS W MV 96+ HOURS</td>\n",
       "      <td>163227.335864</td>\n",
       "    </tr>\n",
       "    <tr>\n",
       "      <td>21</td>\n",
       "      <td>207 - RESPIRATORY SYSTEM DIAGNOSIS W VENTILATO...</td>\n",
       "      <td>143428.055060</td>\n",
       "    </tr>\n",
       "    <tr>\n",
       "      <td>91</td>\n",
       "      <td>853 - INFECTIOUS &amp; PARASITIC DISEASES W O.R. P...</td>\n",
       "      <td>139186.354961</td>\n",
       "    </tr>\n",
       "    <tr>\n",
       "      <td>52</td>\n",
       "      <td>329 - MAJOR SMALL &amp; LARGE BOWEL PROCEDURES W MCC</td>\n",
       "      <td>135330.944034</td>\n",
       "    </tr>\n",
       "    <tr>\n",
       "      <td>26</td>\n",
       "      <td>246 - PERC CARDIOVASC PROC W DRUG-ELUTING STEN...</td>\n",
       "      <td>96348.810617</td>\n",
       "    </tr>\n",
       "  </tbody>\n",
       "</table>\n",
       "</div>"
      ],
      "text/plain": [
       "                                       DRG Definition  Average Covered Charges\n",
       "92   870 - SEPTICEMIA OR SEVERE SEPSIS W MV 96+ HOURS            163227.335864\n",
       "21  207 - RESPIRATORY SYSTEM DIAGNOSIS W VENTILATO...            143428.055060\n",
       "91  853 - INFECTIOUS & PARASITIC DISEASES W O.R. P...            139186.354961\n",
       "52   329 - MAJOR SMALL & LARGE BOWEL PROCEDURES W MCC            135330.944034\n",
       "26  246 - PERC CARDIOVASC PROC W DRUG-ELUTING STEN...             96348.810617"
      ]
     },
     "execution_count": 38,
     "metadata": {},
     "output_type": "execute_result"
    }
   ],
   "source": [
    "data_exp_health = data_by_code_state.groupby(\"DRG Definition\", as_index= False)[\"Average Covered Charges\"].mean()\n",
    "data_exp_health = data_exp_health.sort_values(\"Average Covered Charges\", ascending = False).head()\n",
    "data_exp_health.head()"
   ]
  },
  {
   "cell_type": "code",
   "execution_count": 42,
   "metadata": {},
   "outputs": [
    {
     "data": {
      "image/png": "[encoded data removed]",
      "text/plain": [
       "<Figure size 360x360 with 1 Axes>"
      ]
     },
     "metadata": {
      "needs_background": "light"
     },
     "output_type": "display_data"
    }
   ],
   "source": [
    "plt.figure(figsize= (5,5))\n",
    "a= sns.barplot(x = \"DRG Definition\", y = \"Average Covered Charges\", data = data_exp_health)\n",
    "plt.xticks(rotation = 90)\n",
    "plt.show()"
   ]
  },
  {
   "cell_type": "code",
   "execution_count": 50,
   "metadata": {},
   "outputs": [],
   "source": [
    "data_state = data[[\"DRG Definition\",\"Provider Name\",\"Provider State\",\"Total Discharges\",\n",
    "                           \"Average Covered Charges\",\"Average Total Payments\",\"Average Medicare Payments\"]]"
   ]
  },
  {
   "cell_type": "code",
   "execution_count": 51,
   "metadata": {},
   "outputs": [
    {
     "data": {
      "text/html": [
       "<div>\n",
       "<style scoped>\n",
       "    .dataframe tbody tr th:only-of-type {\n",
       "        vertical-align: middle;\n",
       "    }\n",
       "\n",
       "    .dataframe tbody tr th {\n",
       "        vertical-align: top;\n",
       "    }\n",
       "\n",
       "    .dataframe thead th {\n",
       "        text-align: right;\n",
       "    }\n",
       "</style>\n",
       "<table border=\"1\" class=\"dataframe\">\n",
       "  <thead>\n",
       "    <tr style=\"text-align: right;\">\n",
       "      <th></th>\n",
       "      <th>DRG Definition</th>\n",
       "      <th>Provider Name</th>\n",
       "      <th>Provider State</th>\n",
       "      <th>Total Discharges</th>\n",
       "      <th>Average Covered Charges</th>\n",
       "      <th>Average Total Payments</th>\n",
       "      <th>Average Medicare Payments</th>\n",
       "    </tr>\n",
       "  </thead>\n",
       "  <tbody>\n",
       "    <tr>\n",
       "      <td>64</td>\n",
       "      <td>039 - EXTRACRANIAL PROCEDURES W/O CC/MCC</td>\n",
       "      <td>ST JOSEPH HOSPITAL</td>\n",
       "      <td>CA</td>\n",
       "      <td>48</td>\n",
       "      <td>44664.45833</td>\n",
       "      <td>8227.145833</td>\n",
       "      <td>6936.520833</td>\n",
       "    </tr>\n",
       "    <tr>\n",
       "      <td>65</td>\n",
       "      <td>039 - EXTRACRANIAL PROCEDURES W/O CC/MCC</td>\n",
       "      <td>PENINSULA MEDICAL CENTER</td>\n",
       "      <td>CA</td>\n",
       "      <td>16</td>\n",
       "      <td>51950.87500</td>\n",
       "      <td>7863.000000</td>\n",
       "      <td>6872.500000</td>\n",
       "    </tr>\n",
       "    <tr>\n",
       "      <td>66</td>\n",
       "      <td>039 - EXTRACRANIAL PROCEDURES W/O CC/MCC</td>\n",
       "      <td>ST HELENA HOSPITAL</td>\n",
       "      <td>CA</td>\n",
       "      <td>17</td>\n",
       "      <td>105929.47060</td>\n",
       "      <td>9438.000000</td>\n",
       "      <td>8376.352941</td>\n",
       "    </tr>\n",
       "    <tr>\n",
       "      <td>67</td>\n",
       "      <td>039 - EXTRACRANIAL PROCEDURES W/O CC/MCC</td>\n",
       "      <td>MERCY GENERAL HOSPITAL</td>\n",
       "      <td>CA</td>\n",
       "      <td>27</td>\n",
       "      <td>66207.66667</td>\n",
       "      <td>10863.222220</td>\n",
       "      <td>6924.703704</td>\n",
       "    </tr>\n",
       "    <tr>\n",
       "      <td>68</td>\n",
       "      <td>039 - EXTRACRANIAL PROCEDURES W/O CC/MCC</td>\n",
       "      <td>GROSSMONT HOSPITAL</td>\n",
       "      <td>CA</td>\n",
       "      <td>26</td>\n",
       "      <td>40062.46154</td>\n",
       "      <td>7449.807692</td>\n",
       "      <td>6358.076923</td>\n",
       "    </tr>\n",
       "  </tbody>\n",
       "</table>\n",
       "</div>"
      ],
      "text/plain": [
       "                              DRG Definition             Provider Name  \\\n",
       "64  039 - EXTRACRANIAL PROCEDURES W/O CC/MCC        ST JOSEPH HOSPITAL   \n",
       "65  039 - EXTRACRANIAL PROCEDURES W/O CC/MCC  PENINSULA MEDICAL CENTER   \n",
       "66  039 - EXTRACRANIAL PROCEDURES W/O CC/MCC        ST HELENA HOSPITAL   \n",
       "67  039 - EXTRACRANIAL PROCEDURES W/O CC/MCC    MERCY GENERAL HOSPITAL   \n",
       "68  039 - EXTRACRANIAL PROCEDURES W/O CC/MCC        GROSSMONT HOSPITAL   \n",
       "\n",
       "   Provider State  Total Discharges  Average Covered Charges  \\\n",
       "64             CA                48              44664.45833   \n",
       "65             CA                16              51950.87500   \n",
       "66             CA                17             105929.47060   \n",
       "67             CA                27              66207.66667   \n",
       "68             CA                26              40062.46154   \n",
       "\n",
       "    Average Total Payments  Average Medicare Payments  \n",
       "64             8227.145833                6936.520833  \n",
       "65             7863.000000                6872.500000  \n",
       "66             9438.000000                8376.352941  \n",
       "67            10863.222220                6924.703704  \n",
       "68             7449.807692                6358.076923  "
      ]
     },
     "execution_count": 51,
     "metadata": {},
     "output_type": "execute_result"
    }
   ],
   "source": [
    "data_CA = data_state[data_state[\"Provider State\"]== \"CA\"]\n",
    "data_CA.head()"
   ]
  },
  {
   "cell_type": "code",
   "execution_count": 54,
   "metadata": {},
   "outputs": [
    {
     "data": {
      "text/plain": [
       "(13064, 7)"
      ]
     },
     "execution_count": 54,
     "metadata": {},
     "output_type": "execute_result"
    }
   ],
   "source": [
    "data_CA.shape"
   ]
  },
  {
   "cell_type": "code",
   "execution_count": null,
   "metadata": {},
   "outputs": [],
   "source": []
  },
  {
   "cell_type": "code",
   "execution_count": 56,
   "metadata": {},
   "outputs": [
    {
     "data": {
      "text/plain": [
       "871 - SEPTICEMIA OR SEVERE SEPSIS W/O MV 96+ HOURS W MCC        273\n",
       "292 - HEART FAILURE & SHOCK W CC                                256\n",
       "690 - KIDNEY & URINARY TRACT INFECTIONS W/O MCC                 254\n",
       "194 - SIMPLE PNEUMONIA & PLEURISY W CC                          248\n",
       "392 - ESOPHAGITIS, GASTROENT & MISC DIGEST DISORDERS W/O MCC    248\n",
       "                                                               ... \n",
       "305 - HYPERTENSION W/O MCC                                       49\n",
       "885 - PSYCHOSES                                                  45\n",
       "203 - BRONCHITIS & ASTHMA W/O CC/MCC                             41\n",
       "684 - RENAL FAILURE W/O CC/MCC                                   39\n",
       "301 - PERIPHERAL VASCULAR DISORDERS W/O CC/MCC                   32\n",
       "Name: DRG Definition, Length: 100, dtype: int64"
      ]
     },
     "execution_count": 56,
     "metadata": {},
     "output_type": "execute_result"
    }
   ],
   "source": [
    "data_CA[\"DRG Definition\"].value_counts()"
   ]
  },
  {
   "cell_type": "code",
   "execution_count": 71,
   "metadata": {},
   "outputs": [
    {
     "data": {
      "text/html": [
       "<div>\n",
       "<style scoped>\n",
       "    .dataframe tbody tr th:only-of-type {\n",
       "        vertical-align: middle;\n",
       "    }\n",
       "\n",
       "    .dataframe tbody tr th {\n",
       "        vertical-align: top;\n",
       "    }\n",
       "\n",
       "    .dataframe thead th {\n",
       "        text-align: right;\n",
       "    }\n",
       "</style>\n",
       "<table border=\"1\" class=\"dataframe\">\n",
       "  <thead>\n",
       "    <tr style=\"text-align: right;\">\n",
       "      <th></th>\n",
       "      <th>DRG Definition</th>\n",
       "      <th>Provider Name</th>\n",
       "      <th>Provider State</th>\n",
       "      <th>Total Discharges</th>\n",
       "      <th>Average Covered Charges</th>\n",
       "      <th>Average Total Payments</th>\n",
       "      <th>Average Medicare Payments</th>\n",
       "    </tr>\n",
       "  </thead>\n",
       "  <tbody>\n",
       "    <tr>\n",
       "      <td>63314</td>\n",
       "      <td>292 - HEART FAILURE &amp; SHOCK W CC</td>\n",
       "      <td>CONTRA COSTA REGIONAL MEDICAL CENTER</td>\n",
       "      <td>CA</td>\n",
       "      <td>30</td>\n",
       "      <td>26569.30000</td>\n",
       "      <td>16916.50000</td>\n",
       "      <td>16129.43333</td>\n",
       "    </tr>\n",
       "    <tr>\n",
       "      <td>63297</td>\n",
       "      <td>292 - HEART FAILURE &amp; SHOCK W CC</td>\n",
       "      <td>SAN FRANCISCO GENERAL HOSPITAL</td>\n",
       "      <td>CA</td>\n",
       "      <td>52</td>\n",
       "      <td>54777.09615</td>\n",
       "      <td>16253.78846</td>\n",
       "      <td>15519.78846</td>\n",
       "    </tr>\n",
       "    <tr>\n",
       "      <td>63334</td>\n",
       "      <td>292 - HEART FAILURE &amp; SHOCK W CC</td>\n",
       "      <td>ALAMEDA COUNTY MEDICAL CENTER</td>\n",
       "      <td>CA</td>\n",
       "      <td>21</td>\n",
       "      <td>39353.04762</td>\n",
       "      <td>14995.52381</td>\n",
       "      <td>14353.23810</td>\n",
       "    </tr>\n",
       "    <tr>\n",
       "      <td>63217</td>\n",
       "      <td>292 - HEART FAILURE &amp; SHOCK W CC</td>\n",
       "      <td>LAC/OLIVE VIEW-UCLA MEDICAL CENTER</td>\n",
       "      <td>CA</td>\n",
       "      <td>22</td>\n",
       "      <td>38672.31818</td>\n",
       "      <td>14838.77273</td>\n",
       "      <td>14328.59091</td>\n",
       "    </tr>\n",
       "    <tr>\n",
       "      <td>63215</td>\n",
       "      <td>292 - HEART FAILURE &amp; SHOCK W CC</td>\n",
       "      <td>SANTA CLARA VALLEY MEDICAL CENTER</td>\n",
       "      <td>CA</td>\n",
       "      <td>56</td>\n",
       "      <td>39379.30357</td>\n",
       "      <td>14667.71429</td>\n",
       "      <td>13967.07143</td>\n",
       "    </tr>\n",
       "    <tr>\n",
       "      <td>63311</td>\n",
       "      <td>292 - HEART FAILURE &amp; SHOCK W CC</td>\n",
       "      <td>RONALD REAGAN UCLA MEDICAL CENTER</td>\n",
       "      <td>CA</td>\n",
       "      <td>92</td>\n",
       "      <td>53728.53261</td>\n",
       "      <td>14513.45652</td>\n",
       "      <td>13875.51087</td>\n",
       "    </tr>\n",
       "    <tr>\n",
       "      <td>63370</td>\n",
       "      <td>292 - HEART FAILURE &amp; SHOCK W CC</td>\n",
       "      <td>STANFORD HOSPITAL</td>\n",
       "      <td>CA</td>\n",
       "      <td>105</td>\n",
       "      <td>94994.26667</td>\n",
       "      <td>14527.21905</td>\n",
       "      <td>13852.93333</td>\n",
       "    </tr>\n",
       "    <tr>\n",
       "      <td>63352</td>\n",
       "      <td>292 - HEART FAILURE &amp; SHOCK W CC</td>\n",
       "      <td>LAC/HARBOR-UCLA MED CENTER</td>\n",
       "      <td>CA</td>\n",
       "      <td>20</td>\n",
       "      <td>34710.30000</td>\n",
       "      <td>14040.70000</td>\n",
       "      <td>13419.70000</td>\n",
       "    </tr>\n",
       "    <tr>\n",
       "      <td>63373</td>\n",
       "      <td>292 - HEART FAILURE &amp; SHOCK W CC</td>\n",
       "      <td>UCSF MEDICAL CENTER</td>\n",
       "      <td>CA</td>\n",
       "      <td>83</td>\n",
       "      <td>62985.87952</td>\n",
       "      <td>15154.73494</td>\n",
       "      <td>13282.49398</td>\n",
       "    </tr>\n",
       "    <tr>\n",
       "      <td>63351</td>\n",
       "      <td>292 - HEART FAILURE &amp; SHOCK W CC</td>\n",
       "      <td>LAC+USC MEDICAL CENTER</td>\n",
       "      <td>CA</td>\n",
       "      <td>24</td>\n",
       "      <td>36549.41667</td>\n",
       "      <td>13443.87500</td>\n",
       "      <td>12846.50000</td>\n",
       "    </tr>\n",
       "  </tbody>\n",
       "</table>\n",
       "</div>"
      ],
      "text/plain": [
       "                         DRG Definition                         Provider Name  \\\n",
       "63314  292 - HEART FAILURE & SHOCK W CC  CONTRA COSTA REGIONAL MEDICAL CENTER   \n",
       "63297  292 - HEART FAILURE & SHOCK W CC        SAN FRANCISCO GENERAL HOSPITAL   \n",
       "63334  292 - HEART FAILURE & SHOCK W CC         ALAMEDA COUNTY MEDICAL CENTER   \n",
       "63217  292 - HEART FAILURE & SHOCK W CC    LAC/OLIVE VIEW-UCLA MEDICAL CENTER   \n",
       "63215  292 - HEART FAILURE & SHOCK W CC     SANTA CLARA VALLEY MEDICAL CENTER   \n",
       "63311  292 - HEART FAILURE & SHOCK W CC     RONALD REAGAN UCLA MEDICAL CENTER   \n",
       "63370  292 - HEART FAILURE & SHOCK W CC                     STANFORD HOSPITAL   \n",
       "63352  292 - HEART FAILURE & SHOCK W CC            LAC/HARBOR-UCLA MED CENTER   \n",
       "63373  292 - HEART FAILURE & SHOCK W CC                   UCSF MEDICAL CENTER   \n",
       "63351  292 - HEART FAILURE & SHOCK W CC                LAC+USC MEDICAL CENTER   \n",
       "\n",
       "      Provider State  Total Discharges  Average Covered Charges  \\\n",
       "63314             CA                30              26569.30000   \n",
       "63297             CA                52              54777.09615   \n",
       "63334             CA                21              39353.04762   \n",
       "63217             CA                22              38672.31818   \n",
       "63215             CA                56              39379.30357   \n",
       "63311             CA                92              53728.53261   \n",
       "63370             CA               105              94994.26667   \n",
       "63352             CA                20              34710.30000   \n",
       "63373             CA                83              62985.87952   \n",
       "63351             CA                24              36549.41667   \n",
       "\n",
       "       Average Total Payments  Average Medicare Payments  \n",
       "63314             16916.50000                16129.43333  \n",
       "63297             16253.78846                15519.78846  \n",
       "63334             14995.52381                14353.23810  \n",
       "63217             14838.77273                14328.59091  \n",
       "63215             14667.71429                13967.07143  \n",
       "63311             14513.45652                13875.51087  \n",
       "63370             14527.21905                13852.93333  \n",
       "63352             14040.70000                13419.70000  \n",
       "63373             15154.73494                13282.49398  \n",
       "63351             13443.87500                12846.50000  "
      ]
     },
     "execution_count": 71,
     "metadata": {},
     "output_type": "execute_result"
    }
   ],
   "source": [
    "data_CA_heart = data_CA[data_CA[\"DRG Definition\"]== \"292 - HEART FAILURE & SHOCK W CC\"]\n",
    "data_CA_heart = data_CA_heart.sort_values(\"Average Medicare Payments\", ascending = False)\n",
    "data_CA_heart.head(10)"
   ]
  },
  {
   "cell_type": "code",
   "execution_count": 75,
   "metadata": {},
   "outputs": [
    {
     "data": {
      "text/html": [
       "<div>\n",
       "<style scoped>\n",
       "    .dataframe tbody tr th:only-of-type {\n",
       "        vertical-align: middle;\n",
       "    }\n",
       "\n",
       "    .dataframe tbody tr th {\n",
       "        vertical-align: top;\n",
       "    }\n",
       "\n",
       "    .dataframe thead th {\n",
       "        text-align: right;\n",
       "    }\n",
       "</style>\n",
       "<table border=\"1\" class=\"dataframe\">\n",
       "  <thead>\n",
       "    <tr style=\"text-align: right;\">\n",
       "      <th></th>\n",
       "      <th>Total Discharges</th>\n",
       "      <th>Average Covered Charges</th>\n",
       "      <th>Average Total Payments</th>\n",
       "      <th>Average Medicare Payments</th>\n",
       "    </tr>\n",
       "  </thead>\n",
       "  <tbody>\n",
       "    <tr>\n",
       "      <td>count</td>\n",
       "      <td>256.000000</td>\n",
       "      <td>256.000000</td>\n",
       "      <td>256.000000</td>\n",
       "      <td>256.000000</td>\n",
       "    </tr>\n",
       "    <tr>\n",
       "      <td>mean</td>\n",
       "      <td>53.980469</td>\n",
       "      <td>43447.295493</td>\n",
       "      <td>8799.078252</td>\n",
       "      <td>7989.303560</td>\n",
       "    </tr>\n",
       "    <tr>\n",
       "      <td>std</td>\n",
       "      <td>37.019915</td>\n",
       "      <td>17909.220424</td>\n",
       "      <td>1961.574899</td>\n",
       "      <td>1959.374053</td>\n",
       "    </tr>\n",
       "    <tr>\n",
       "      <td>min</td>\n",
       "      <td>11.000000</td>\n",
       "      <td>12447.450000</td>\n",
       "      <td>6004.200000</td>\n",
       "      <td>5260.545455</td>\n",
       "    </tr>\n",
       "    <tr>\n",
       "      <td>25%</td>\n",
       "      <td>24.000000</td>\n",
       "      <td>30923.623530</td>\n",
       "      <td>7431.912346</td>\n",
       "      <td>6621.288410</td>\n",
       "    </tr>\n",
       "    <tr>\n",
       "      <td>50%</td>\n",
       "      <td>45.500000</td>\n",
       "      <td>39370.788150</td>\n",
       "      <td>8422.346273</td>\n",
       "      <td>7561.986111</td>\n",
       "    </tr>\n",
       "    <tr>\n",
       "      <td>75%</td>\n",
       "      <td>79.250000</td>\n",
       "      <td>53299.818908</td>\n",
       "      <td>9663.990741</td>\n",
       "      <td>8891.604336</td>\n",
       "    </tr>\n",
       "    <tr>\n",
       "      <td>max</td>\n",
       "      <td>283.000000</td>\n",
       "      <td>94994.266670</td>\n",
       "      <td>16916.500000</td>\n",
       "      <td>16129.433330</td>\n",
       "    </tr>\n",
       "  </tbody>\n",
       "</table>\n",
       "</div>"
      ],
      "text/plain": [
       "       Total Discharges  Average Covered Charges  Average Total Payments  \\\n",
       "count        256.000000               256.000000              256.000000   \n",
       "mean          53.980469             43447.295493             8799.078252   \n",
       "std           37.019915             17909.220424             1961.574899   \n",
       "min           11.000000             12447.450000             6004.200000   \n",
       "25%           24.000000             30923.623530             7431.912346   \n",
       "50%           45.500000             39370.788150             8422.346273   \n",
       "75%           79.250000             53299.818908             9663.990741   \n",
       "max          283.000000             94994.266670            16916.500000   \n",
       "\n",
       "       Average Medicare Payments  \n",
       "count                 256.000000  \n",
       "mean                 7989.303560  \n",
       "std                  1959.374053  \n",
       "min                  5260.545455  \n",
       "25%                  6621.288410  \n",
       "50%                  7561.986111  \n",
       "75%                  8891.604336  \n",
       "max                 16129.433330  "
      ]
     },
     "execution_count": 75,
     "metadata": {},
     "output_type": "execute_result"
    }
   ],
   "source": [
    "data_CA_heart.describe()"
   ]
  },
  {
   "cell_type": "code",
   "execution_count": 55,
   "metadata": {},
   "outputs": [
    {
     "data": {
      "text/plain": [
       "GOOD SAMARITAN HOSPITAL                   633\n",
       "ST JOSEPH MEDICAL CENTER                  427\n",
       "MERCY MEDICAL CENTER                      357\n",
       "MERCY HOSPITAL                            347\n",
       "ST JOSEPH HOSPITAL                        343\n",
       "                                         ... \n",
       "ALLEN PARISH HOSPITAL                       1\n",
       "BUTLER COUNTY MEDICAL CENTER                1\n",
       "COORDINATED HEALTH ORTHOPEDIC HOSPITAL      1\n",
       "BEAVER VALLEY HOSPITAL                      1\n",
       "BRIGHAM CITY COMMUNITY HOSPITAL             1\n",
       "Name: Provider Name, Length: 3201, dtype: int64"
      ]
     },
     "execution_count": 55,
     "metadata": {},
     "output_type": "execute_result"
    }
   ],
   "source": [
    "data[\"Provider Name\"].value_counts()"
   ]
  },
  {
   "cell_type": "markdown",
   "metadata": {},
   "source": [
    "### Correlations\n",
    "It looks like there is a strong positive correlation between what hospitals charge and what they are paid by Medicare. According to our analysis, correlation between average covered charges and average Medicare payments is 0.768"
   ]
  },
  {
   "cell_type": "code",
   "execution_count": 44,
   "metadata": {},
   "outputs": [
    {
     "data": {
      "text/html": [
       "<div>\n",
       "<style scoped>\n",
       "    .dataframe tbody tr th:only-of-type {\n",
       "        vertical-align: middle;\n",
       "    }\n",
       "\n",
       "    .dataframe tbody tr th {\n",
       "        vertical-align: top;\n",
       "    }\n",
       "\n",
       "    .dataframe thead th {\n",
       "        text-align: right;\n",
       "    }\n",
       "</style>\n",
       "<table border=\"1\" class=\"dataframe\">\n",
       "  <thead>\n",
       "    <tr style=\"text-align: right;\">\n",
       "      <th></th>\n",
       "      <th>Average Covered Charges</th>\n",
       "      <th>Average Medicare Payments</th>\n",
       "    </tr>\n",
       "  </thead>\n",
       "  <tbody>\n",
       "    <tr>\n",
       "      <td>Average Covered Charges</td>\n",
       "      <td>1.000000</td>\n",
       "      <td>0.768927</td>\n",
       "    </tr>\n",
       "    <tr>\n",
       "      <td>Average Medicare Payments</td>\n",
       "      <td>0.768927</td>\n",
       "      <td>1.000000</td>\n",
       "    </tr>\n",
       "  </tbody>\n",
       "</table>\n",
       "</div>"
      ],
      "text/plain": [
       "                           Average Covered Charges  Average Medicare Payments\n",
       "Average Covered Charges                   1.000000                   0.768927\n",
       "Average Medicare Payments                 0.768927                   1.000000"
      ]
     },
     "execution_count": 44,
     "metadata": {},
     "output_type": "execute_result"
    }
   ],
   "source": [
    "data[[\"Average Covered Charges\",\"Average Medicare Payments\"]].corr()"
   ]
  },
  {
   "cell_type": "code",
   "execution_count": null,
   "metadata": {},
   "outputs": [],
   "source": []
  }
 ],
 "metadata": {
  "kernelspec": {
   "display_name": "Python 3",
   "language": "python",
   "name": "python3"
  },
  "language_info": {
   "codemirror_mode": {
    "name": "ipython",
    "version": 3
   },
   "file_extension": ".py",
   "mimetype": "text/x-python",
   "name": "python",
   "nbconvert_exporter": "python",
   "pygments_lexer": "ipython3",
   "version": "3.7.4"
  }
 },
 "nbformat": 4,
 "nbformat_minor": 2
}
